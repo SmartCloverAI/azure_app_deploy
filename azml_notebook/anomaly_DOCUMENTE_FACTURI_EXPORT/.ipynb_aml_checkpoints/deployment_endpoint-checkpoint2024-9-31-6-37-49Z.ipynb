{
  "cells": [
    {
      "cell_type": "code",
      "execution_count": 18,
      "metadata": {
        "gather": {
          "logged": 1726743047486
        }
      },
      "outputs": [],
      "source": [
        "import os\n",
        "from azure.ai.ml import MLClient\n",
        "from azure.ai.ml.entities import (\n",
        "    ManagedOnlineEndpoint,\n",
        "    ManagedOnlineDeployment,\n",
        "    Model,\n",
        "    Environment,\n",
        "    CodeConfiguration,\n",
        ")\n",
        "from azure.identity import DefaultAzureCredential, InteractiveBrowserCredential, ManagedIdentityCredential"
      ]
    },
    {
      "cell_type": "code",
      "execution_count": 19,
      "metadata": {},
      "outputs": [],
      "source": [
        "AZURE_DIRECTORY = '/mnt/batch/tasks/shared/LS_root/mounts/clusters/aimethica-general/code/Users/alexandru.popescu/anomaly_DOCUMENTE_FACTURI_EXPORT'"
      ]
    },
    {
      "cell_type": "code",
      "execution_count": 20,
      "metadata": {
        "gather": {
          "logged": 1726743048815
        }
      },
      "outputs": [],
      "source": [
        "subscription_id = \"9107822e-69ab-454f-a905-b59c4e15c1af\"\n",
        "resource_group = \"AiMethica-ML\"\n",
        "workspace = \"AiMethica-AZML\""
      ]
    },
    {
      "cell_type": "code",
      "execution_count": 21,
      "metadata": {
        "gather": {
          "logged": 1726743051056
        }
      },
      "outputs": [],
      "source": [
        "ml_client = MLClient(\n",
        "    DefaultAzureCredential(), subscription_id, resource_group, workspace\n",
        ")"
      ]
    },
    {
      "cell_type": "code",
      "execution_count": 22,
      "metadata": {
        "gather": {
          "logged": 1726743053730
        }
      },
      "outputs": [
        {
          "name": "stdout",
          "output_type": "stream",
          "text": [
            "westeurope : AiMethica-ML\n"
          ]
        }
      ],
      "source": [
        "ws = ml_client.workspaces.get(workspace)\n",
        "print(ws.location, \":\", ws.resource_group)"
      ]
    },
    {
      "cell_type": "code",
      "execution_count": 23,
      "metadata": {
        "gather": {
          "logged": 1726743055418
        }
      },
      "outputs": [],
      "source": [
        "custom_env_name = 'aimethica-anomaly-env'\n",
        "job_name = 'careful_map_52rd1875dq'\n",
        "env_name = custom_env_name + \"@latest\""
      ]
    },
    {
      "cell_type": "code",
      "execution_count": 24,
      "metadata": {
        "gather": {
          "logged": 1726743057546
        }
      },
      "outputs": [],
      "source": [
        "from azure.ai.ml.entities import Model\n",
        "\n",
        "model = Model(\n",
        "    # the script stores the model as \"model\"\n",
        "    path=f\"azureml://jobs/{job_name}/outputs/artifacts/paths/outputs/\",\n",
        "    name=\"anomaly_document_facturi_export\",\n",
        "    description=\"Anomaly detection model for the DOCUMENT FACTURI EXPORT dataset.\",\n",
        "    type=\"custom_model\"\n",
        ")"
      ]
    },
    {
      "cell_type": "code",
      "execution_count": 25,
      "metadata": {
        "gather": {
          "logged": 1726743061029
        }
      },
      "outputs": [],
      "source": [
        "registered_model = ml_client.models.create_or_update(model=model)"
      ]
    },
    {
      "cell_type": "code",
      "execution_count": 26,
      "metadata": {
        "gather": {
          "logged": 1726743062837
        }
      },
      "outputs": [],
      "source": [
        "online_endpoint_name = \"anomaly-document-facturi-export\""
      ]
    },
    {
      "cell_type": "code",
      "execution_count": 27,
      "metadata": {
        "gather": {
          "logged": 1726743096147
        }
      },
      "outputs": [
        {
          "name": "stdout",
          "output_type": "stream",
          "text": [
            "Endpint anomaly-document-facturi-export provisioning state: Succeeded\n"
          ]
        }
      ],
      "source": [
        "# create an online endpoint\n",
        "endpoint = ManagedOnlineEndpoint(\n",
        "    name=online_endpoint_name,\n",
        "    description=\"Anomaly detection model for the DOCUMENT FACTURI EXPORT dataset.\",\n",
        "    auth_mode=\"key\"\n",
        ")\n",
        "\n",
        "endpoint = ml_client.begin_create_or_update(endpoint).result()\n",
        "\n",
        "print(f\"Endpint {endpoint.name} provisioning state: {endpoint.provisioning_state}\")"
      ]
    },
    {
      "cell_type": "code",
      "execution_count": 28,
      "metadata": {
        "gather": {
          "logged": 1726750940421
        }
      },
      "outputs": [],
      "source": [
        "model_name = registered_model.name + '@latest'\n",
        "\n",
        "code_directory = os.path.join(AZURE_DIRECTORY,'src')\n",
        "\n",
        "blue_deployment = ManagedOnlineDeployment(\n",
        "    name=\"tff-blue\",\n",
        "    endpoint_name=online_endpoint_name,\n",
        "    model=model_name,\n",
        "    code_configuration=CodeConfiguration(code=code_directory, scoring_script=\"score.py\"),\n",
        "    environment=env_name,\n",
        "    instance_type=\"Standard_DS1_v2\",\n",
        "    instance_count=1,\n",
        ")"
      ]
    },
    {
      "cell_type": "code",
      "execution_count": 29,
      "metadata": {
        "gather": {
          "logged": 1726750946677
        }
      },
      "outputs": [
        {
          "name": "stderr",
          "output_type": "stream",
          "text": [
            "Instance type Standard_DS1_v2 may be too small for compute resources. Minimum recommended compute SKU is Standard_DS3_v2 for general purpose endpoints. Learn more about SKUs here: https://learn.microsoft.com/en-us/azure/machine-learning/referencemanaged-online-endpoints-vm-sku-list\n",
            "Check: endpoint anomaly-document-facturi-export exists\n"
          ]
        },
        {
          "name": "stdout",
          "output_type": "stream",
          "text": [
            "............................................"
          ]
        }
      ],
      "source": [
        "blue_deployment = ml_client.begin_create_or_update(blue_deployment)"
      ]
    },
    {
      "cell_type": "code",
      "execution_count": 30,
      "metadata": {
        "gather": {
          "logged": 1726751192072
        }
      },
      "outputs": [
        {
          "data": {
            "text/plain": [
              "'{\"response\": [false, false, false, false, false, true]}'"
            ]
          },
          "execution_count": 30,
          "metadata": {},
          "output_type": "execute_result"
        }
      ],
      "source": [
        "anomaly_request = os.path.join(AZURE_DIRECTORY,\"data/anomaly_request.json\")\n",
        "ml_client.online_endpoints.invoke(\n",
        "    endpoint_name=online_endpoint_name,\n",
        "    deployment_name=\"tff-blue\",\n",
        "    request_file=anomaly_request\n",
        ")"
      ]
    }
  ],
  "metadata": {
    "kernel_info": {
      "name": "python310-sdkv2"
    },
    "kernelspec": {
      "display_name": "Python 3.10 - SDK v2",
      "language": "python",
      "name": "python310-sdkv2"
    },
    "microsoft": {
      "host": {
        "AzureML": {
          "notebookHasBeenCompleted": true
        }
      },
      "ms_spell_check": {
        "ms_spell_check_language": "en"
      }
    },
    "nteract": {
      "version": "nteract-front-end@1.0.0"
    }
  },
  "nbformat": 4,
  "nbformat_minor": 2
}
