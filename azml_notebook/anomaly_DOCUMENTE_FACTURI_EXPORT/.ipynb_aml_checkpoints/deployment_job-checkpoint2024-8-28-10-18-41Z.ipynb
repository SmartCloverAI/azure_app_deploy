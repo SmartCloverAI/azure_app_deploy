{
  "cells": [
    {
      "cell_type": "code",
      "execution_count": 1,
      "metadata": {
        "gather": {
          "logged": 1726736664937
        }
      },
      "outputs": [],
      "source": [
        "import os\n",
        "from azure.ai.ml import MLClient\n",
        "from azure.ai.ml.entities import (\n",
        "    ManagedOnlineEndpoint,\n",
        "    ManagedOnlineDeployment,\n",
        "    Model,\n",
        "    Environment,\n",
        "    CodeConfiguration,\n",
        ")\n",
        "from azure.identity import DefaultAzureCredential, InteractiveBrowserCredential, ManagedIdentityCredential"
      ]
    },
    {
      "cell_type": "code",
      "execution_count": 2,
      "metadata": {},
      "outputs": [],
      "source": [
        "AZURE_DIRECTORY = '/mnt/batch/tasks/shared/LS_root/mounts/clusters/aimethica-general/code/Users/alexandru.popescu/anomaly_DOCUMENTE_FACTURI_EXPORT'"
      ]
    },
    {
      "cell_type": "code",
      "execution_count": 3,
      "metadata": {
        "gather": {
          "logged": 1726736667036
        }
      },
      "outputs": [],
      "source": [
        "subscription_id = \"9107822e-69ab-454f-a905-b59c4e15c1af\"\n",
        "resource_group = \"AiMethica-ML\"\n",
        "workspace = \"AiMethica-AZML\""
      ]
    },
    {
      "cell_type": "code",
      "execution_count": 4,
      "metadata": {
        "gather": {
          "logged": 1726736669193
        },
        "jupyter": {
          "outputs_hidden": false,
          "source_hidden": false
        },
        "nteract": {
          "transient": {
            "deleting": false
          }
        }
      },
      "outputs": [],
      "source": [
        "ml_client = MLClient(\n",
        "    DefaultAzureCredential(), subscription_id, resource_group, workspace\n",
        ")"
      ]
    },
    {
      "cell_type": "code",
      "execution_count": 5,
      "metadata": {
        "gather": {
          "logged": 1726736670948
        },
        "jupyter": {
          "outputs_hidden": false,
          "source_hidden": false
        },
        "nteract": {
          "transient": {
            "deleting": false
          }
        }
      },
      "outputs": [
        {
          "name": "stdout",
          "output_type": "stream",
          "text": [
            "westeurope : AiMethica-ML\n"
          ]
        }
      ],
      "source": [
        "ws = ml_client.workspaces.get(workspace)\n",
        "print(ws.location, \":\", ws.resource_group)"
      ]
    },
    {
      "cell_type": "code",
      "execution_count": 6,
      "metadata": {
        "gather": {
          "logged": 1726736674939
        }
      },
      "outputs": [
        {
          "name": "stdout",
          "output_type": "stream",
          "text": [
            "Cluster: aimethica-cluster-managed exists.\n"
          ]
        }
      ],
      "source": [
        "from azure.ai.ml.entities import AmlCompute\n",
        "\n",
        "cpu_compute_target = \"aimethica-cluster-managed\"\n",
        "\n",
        "try:\n",
        "    cpu_cluster = ml_client.compute.get(cpu_compute_target)\n",
        "    print(\n",
        "        f\"Cluster: {cpu_compute_target} exists.\"\n",
        "    )\n",
        "\n",
        "except Exception:\n",
        "    print(\"The cluster doesn't exist.\")"
      ]
    },
    {
      "cell_type": "code",
      "execution_count": 9,
      "metadata": {
        "gather": {
          "logged": 1726737905394
        },
        "jupyter": {
          "outputs_hidden": false,
          "source_hidden": false
        },
        "nteract": {
          "transient": {
            "deleting": false
          }
        }
      },
      "outputs": [],
      "source": [
        "from azure.ai.ml import command\n",
        "from azure.ai.ml import Input\n",
        "\n",
        "custom_env_name = \"aimethica-anomaly-env\"\n",
        "env_name = custom_env_name + \"@latest\"\n",
        "\n",
        "registered_model_name = \"anomaly_document_facturi_export\"\n",
        "\n",
        "code_directory = os.path.join(AZURE_DIRECTORY,\"src\")\n",
        "input_data_train_path = os.path.join(AZURE_DIRECTORY,\"data/DOCUMENTE_FACTURI_EXPORT_train.csv\")\n",
        "input_data_test_path = os.path.join(AZURE_DIRECTORY,\"data/DOCUMENTE_FACTURI_EXPORT_test.csv\")\n",
        "\n",
        "\n",
        "job = command(\n",
        "    inputs=dict(\n",
        "        input_data_train=Input(\n",
        "            type=\"uri_file\",\n",
        "            path=input_data_train_path,\n",
        "        ),\n",
        "        input_data_test=Input(\n",
        "            type=\"uri_file\",\n",
        "            path=input_data_test_path,\n",
        "        ),\n",
        "        registered_model_name=registered_model_name,\n",
        "        epochs = 50,\n",
        "        batch_size = 16,\n",
        "    ),\n",
        "    compute=cpu_compute_target,\n",
        "    code=code_directory,  # location of source code\n",
        "    command=\"python anomaly_document_facturi_export.py --input_data_train ${{inputs.input_data_train}} --input_data_test ${{inputs.input_data_test}} --epochs ${{inputs.epochs}} --batch_size ${{inputs.batch_size}} --registered_model_name ${{inputs.registered_model_name}}\",\n",
        "    environment=env_name,\n",
        "    display_name=\"anomaly_document_facturi_export\"\n",
        ")"
      ]
    },
    {
      "cell_type": "code",
      "execution_count": 10,
      "metadata": {
        "gather": {
          "logged": 1726737542134
        },
        "jupyter": {
          "outputs_hidden": false,
          "source_hidden": false
        },
        "nteract": {
          "transient": {
            "deleting": false
          }
        }
      },
      "outputs": [
        {
          "name": "stderr",
          "output_type": "stream",
          "text": [
            "\u001b[32mUploading src (0.01 MBs): 100%|██████████| 9652/9652 [00:00<00:00, 227196.27it/s]\n",
            "\u001b[39m\n",
            "\n"
          ]
        },
        {
          "data": {
            "text/html": [
              "<table style=\"width:100%\"><tr><th>Experiment</th><th>Name</th><th>Type</th><th>Status</th><th>Details Page</th></tr><tr><td>code</td><td>careful_map_52rd1875dq</td><td>command</td><td>Starting</td><td><a href=\"https://ml.azure.com/runs/careful_map_52rd1875dq?wsid=/subscriptions/9107822e-69ab-454f-a905-b59c4e15c1af/resourcegroups/AiMethica-ML/workspaces/AiMethica-AZML&amp;tid=214ea6ae-b24f-4306-b3a4-e32342fa5dfc\" target=\"_blank\" rel=\"noopener\">Link to Azure Machine Learning studio</a></td></tr></table>"
            ],
            "text/plain": [
              "Command({'parameters': {}, 'init': False, 'name': 'careful_map_52rd1875dq', 'type': 'command', 'status': 'Starting', 'log_files': None, 'description': None, 'tags': {}, 'properties': {'_azureml.ComputeTargetType': 'amlctrain', '_azureml.ClusterName': 'aimethica-cluster-managed', 'ContentSnapshotId': '5cf9935c-5b87-4b15-bfbb-3e9e5f96d643'}, 'print_as_yaml': False, 'id': '/subscriptions/9107822e-69ab-454f-a905-b59c4e15c1af/resourceGroups/AiMethica-ML/providers/Microsoft.MachineLearningServices/workspaces/AiMethica-AZML/jobs/careful_map_52rd1875dq', 'Resource__source_path': '', 'base_path': '/mnt/batch/tasks/shared/LS_root/mounts/clusters/aimethica-general/code', 'creation_context': <azure.ai.ml.entities._system_data.SystemData object at 0x7f5c14564340>, 'serialize': <msrest.serialization.Serializer object at 0x7f5c14565030>, 'allowed_keys': {}, 'key_restriction': False, 'logger': <TraceLogger attr_dict (WARNING)>, 'display_name': 'anomaly_document_facturi_export', 'experiment_name': 'code', 'compute': 'aimethica-cluster-managed', 'services': {'Tracking': {'endpoint': 'azureml://westeurope.api.azureml.ms/mlflow/v1.0/subscriptions/9107822e-69ab-454f-a905-b59c4e15c1af/resourceGroups/AiMethica-ML/providers/Microsoft.MachineLearningServices/workspaces/AiMethica-AZML?', 'type': 'Tracking'}, 'Studio': {'endpoint': 'https://ml.azure.com/runs/careful_map_52rd1875dq?wsid=/subscriptions/9107822e-69ab-454f-a905-b59c4e15c1af/resourcegroups/AiMethica-ML/workspaces/AiMethica-AZML&tid=214ea6ae-b24f-4306-b3a4-e32342fa5dfc', 'type': 'Studio'}}, 'comment': None, 'job_inputs': {'input_data_train': {'type': 'uri_file', 'path': 'azureml://datastores/workspaceblobstore/paths/LocalUpload/eeeb42880444c748142fb8e9e87dfb0e/DOCUMENTE_FACTURI_EXPORT_train.csv', 'mode': 'ro_mount'}, 'input_data_test': {'type': 'uri_file', 'path': 'azureml://datastores/workspaceblobstore/paths/LocalUpload/5cec349d3fe611a1acee017444bef38f/DOCUMENTE_FACTURI_EXPORT_test.csv', 'mode': 'ro_mount'}, 'registered_model_name': 'anomaly_document_facturi_export', 'epochs': '50', 'batch_size': '16'}, 'job_outputs': {'default': {'type': 'uri_folder', 'path': 'azureml://datastores/workspaceartifactstore/ExperimentRun/dcid.careful_map_52rd1875dq', 'mode': 'rw_mount'}}, 'inputs': {'input_data_train': <azure.ai.ml.entities._job.pipeline._io.base.NodeInput object at 0x7f5c14564b20>, 'input_data_test': <azure.ai.ml.entities._job.pipeline._io.base.NodeInput object at 0x7f5c14565270>, 'registered_model_name': <azure.ai.ml.entities._job.pipeline._io.base.NodeInput object at 0x7f5c1471fa00>, 'epochs': <azure.ai.ml.entities._job.pipeline._io.base.NodeInput object at 0x7f5c1471caf0>, 'batch_size': <azure.ai.ml.entities._job.pipeline._io.base.NodeInput object at 0x7f5c1471fee0>}, 'outputs': {'default': <azure.ai.ml.entities._job.pipeline._io.base.NodeOutput object at 0x7f5c1471d030>}, 'component': CommandComponent({'latest_version': None, 'intellectual_property': None, 'auto_increment_version': True, 'source': 'REMOTE.WORKSPACE.JOB', 'is_anonymous': False, 'auto_delete_setting': None, 'name': 'careful_map_52rd1875dq', 'description': None, 'tags': {}, 'properties': {}, 'print_as_yaml': False, 'id': None, 'Resource__source_path': None, 'base_path': '/mnt/batch/tasks/shared/LS_root/mounts/clusters/aimethica-general/code', 'creation_context': <azure.ai.ml.entities._system_data.SystemData object at 0x7f5c14564340>, 'serialize': <msrest.serialization.Serializer object at 0x7f5c14566e60>, 'command': 'python anomaly_document_facturi_export.py --input_data_train ${{inputs.input_data_train}} --input_data_test ${{inputs.input_data_test}} --epochs ${{inputs.epochs}} --batch_size ${{inputs.batch_size}} --registered_model_name ${{inputs.registered_model_name}}', 'code': '/subscriptions/9107822e-69ab-454f-a905-b59c4e15c1af/resourceGroups/AiMethica-ML/providers/Microsoft.MachineLearningServices/workspaces/AiMethica-AZML/codes/a73f56c8-5fe6-4c04-a2e7-4dd1f26cdc44/versions/1', 'environment_variables': {}, 'environment': '/subscriptions/9107822e-69ab-454f-a905-b59c4e15c1af/resourceGroups/AiMethica-ML/providers/Microsoft.MachineLearningServices/workspaces/AiMethica-AZML/environments/aimethica-anomaly-env/versions/7', 'distribution': None, 'resources': None, 'queue_settings': None, 'version': None, 'schema': None, 'type': 'command', 'display_name': 'anomaly_document_facturi_export', 'is_deterministic': True, 'inputs': {'input_data_train': {'type': 'uri_file', 'path': 'azureml://datastores/workspaceblobstore/paths/LocalUpload/eeeb42880444c748142fb8e9e87dfb0e/DOCUMENTE_FACTURI_EXPORT_train.csv', 'mode': 'ro_mount'}, 'input_data_test': {'type': 'uri_file', 'path': 'azureml://datastores/workspaceblobstore/paths/LocalUpload/5cec349d3fe611a1acee017444bef38f/DOCUMENTE_FACTURI_EXPORT_test.csv', 'mode': 'ro_mount'}, 'registered_model_name': {'type': 'string', 'default': 'anomaly_document_facturi_export'}, 'epochs': {'type': 'string', 'default': '50'}, 'batch_size': {'type': 'string', 'default': '16'}}, 'outputs': {'default': {'type': 'uri_folder', 'path': 'azureml://datastores/workspaceartifactstore/ExperimentRun/dcid.careful_map_52rd1875dq', 'mode': 'rw_mount'}}, 'yaml_str': None, 'other_parameter': {'status': 'Starting', 'parameters': {}}, 'additional_includes': []}), 'referenced_control_flow_node_instance_id': None, 'kwargs': {'services': {'Tracking': {'endpoint': 'azureml://westeurope.api.azureml.ms/mlflow/v1.0/subscriptions/9107822e-69ab-454f-a905-b59c4e15c1af/resourceGroups/AiMethica-ML/providers/Microsoft.MachineLearningServices/workspaces/AiMethica-AZML?', 'type': 'Tracking'}, 'Studio': {'endpoint': 'https://ml.azure.com/runs/careful_map_52rd1875dq?wsid=/subscriptions/9107822e-69ab-454f-a905-b59c4e15c1af/resourcegroups/AiMethica-ML/workspaces/AiMethica-AZML&tid=214ea6ae-b24f-4306-b3a4-e32342fa5dfc', 'type': 'Studio'}}, 'status': 'Starting', 'creation_context': <azure.ai.ml.entities._system_data.SystemData object at 0x7f5c14564340>}, 'instance_id': 'eb633485-5584-4414-b461-28d8cf35948b', 'source': 'BUILDER', 'validate_required_input_not_provided': True, 'limits': None, 'identity': None, 'distribution': None, 'environment_variables': {}, 'environment': 'aimethica-anomaly-env:7', 'resources': {'instance_count': 1, 'shm_size': '2g'}, 'queue_settings': None, 'swept': False})"
            ]
          },
          "execution_count": 10,
          "metadata": {},
          "output_type": "execute_result"
        }
      ],
      "source": [
        "returned_job = ml_client.create_or_update(job)\n",
        "returned_job"
      ]
    }
  ],
  "metadata": {
    "kernel_info": {
      "name": "python310-sdkv2"
    },
    "kernelspec": {
      "display_name": "Python 3.10 - SDK v2",
      "language": "python",
      "name": "python310-sdkv2"
    },
    "microsoft": {
      "host": {
        "AzureML": {
          "notebookHasBeenCompleted": true
        }
      },
      "ms_spell_check": {
        "ms_spell_check_language": "en"
      }
    },
    "nteract": {
      "version": "nteract-front-end@1.0.0"
    }
  },
  "nbformat": 4,
  "nbformat_minor": 2
}
