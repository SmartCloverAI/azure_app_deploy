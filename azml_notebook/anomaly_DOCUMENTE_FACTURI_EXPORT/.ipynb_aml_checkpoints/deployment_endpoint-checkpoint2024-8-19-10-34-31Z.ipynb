{
 "cells": [
  {
   "cell_type": "code",
   "execution_count": 1,
   "metadata": {},
   "outputs": [],
   "source": [
    "from azure.ai.ml import MLClient\n",
    "from azure.ai.ml.entities import (\n",
    "    ManagedOnlineEndpoint,\n",
    "    ManagedOnlineDeployment,\n",
    "    Model,\n",
    "    Environment,\n",
    "    CodeConfiguration,\n",
    ")\n",
    "from azure.identity import DefaultAzureCredential, InteractiveBrowserCredential, ManagedIdentityCredential"
   ]
  },
  {
   "cell_type": "code",
   "execution_count": 2,
   "metadata": {},
   "outputs": [],
   "source": [
    "subscription_id = \"9107822e-69ab-454f-a905-b59c4e15c1af\"\n",
    "resource_group = \"AiMethica-ML\"\n",
    "workspace = \"AiMethica-AZML\""
   ]
  },
  {
   "cell_type": "code",
   "execution_count": 3,
   "metadata": {},
   "outputs": [],
   "source": [
    "ml_client = MLClient(\n",
    "    DefaultAzureCredential(), subscription_id, resource_group, workspace\n",
    ")"
   ]
  },
  {
   "cell_type": "code",
   "execution_count": 4,
   "metadata": {},
   "outputs": [
    {
     "name": "stdout",
     "output_type": "stream",
     "text": [
      "westeurope : AiMethica-ML\n"
     ]
    }
   ],
   "source": [
    "ws = ml_client.workspaces.get(workspace)\n",
    "print(ws.location, \":\", ws.resource_group)"
   ]
  },
  {
   "cell_type": "code",
   "execution_count": 5,
   "metadata": {},
   "outputs": [],
   "source": [
    "custom_env_name = 'aimethica-anomaly-env'\n",
    "job_name = 'lemon_yuca_ycfygtjw4f'\n",
    "env_name = custom_env_name + \"@latest\""
   ]
  },
  {
   "cell_type": "code",
   "execution_count": 6,
   "metadata": {},
   "outputs": [],
   "source": [
    "from azure.ai.ml.entities import Model\n",
    "\n",
    "model = Model(\n",
    "    # the script stores the model as \"model\"\n",
    "    path=f\"azureml://jobs/{job_name}/outputs/artifacts/paths/outputs/\",\n",
    "    name=\"anomaly_document_facturi_export\",\n",
    "    description=\"Anomaly detection model for the DOCUMENT FACTURI EXPORT dataset.\",\n",
    "    type=\"custom_model\"\n",
    ")"
   ]
  },
  {
   "cell_type": "code",
   "execution_count": 7,
   "metadata": {},
   "outputs": [],
   "source": [
    "registered_model = ml_client.models.create_or_update(model=model)"
   ]
  },
  {
   "cell_type": "code",
   "execution_count": null,
   "metadata": {},
   "outputs": [],
   "source": []
  }
 ],
 "metadata": {
  "kernelspec": {
   "display_name": "Python 3.10 - SDK v2",
   "language": "python",
   "name": "python310-sdkv2"
  },
  "language_info": {
   "codemirror_mode": {
    "name": "ipython",
    "version": 3
   },
   "file_extension": ".py",
   "mimetype": "text/x-python",
   "name": "python",
   "nbconvert_exporter": "python",
   "pygments_lexer": "ipython3",
   "version": "3.10.14"
  }
 },
 "nbformat": 4,
 "nbformat_minor": 2
}
