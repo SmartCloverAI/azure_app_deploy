{
 "cells": [
  {
   "cell_type": "code",
   "execution_count": 11,
   "metadata": {},
   "outputs": [],
   "source": [
    "import os\n",
    "from azure.ai.ml import MLClient\n",
    "from azure.ai.ml.entities import (\n",
    "    ManagedOnlineEndpoint,\n",
    "    ManagedOnlineDeployment,\n",
    "    Model,\n",
    "    Environment,\n",
    "    CodeConfiguration,\n",
    ")\n",
    "from azure.identity import DefaultAzureCredential, InteractiveBrowserCredential, ManagedIdentityCredential"
   ]
  },
  {
   "cell_type": "code",
   "execution_count": 12,
   "metadata": {},
   "outputs": [],
   "source": [
    "AZURE_DIRECTORY = '/mnt/batch/tasks/shared/LS_root/mounts/clusters/aimethica-general/code/Users/alexandru.popescu/anomaly_DOCUMENTE_FACTURI_INTRARE'"
   ]
  },
  {
   "cell_type": "code",
   "execution_count": 13,
   "metadata": {},
   "outputs": [],
   "source": [
    "subscription_id = \"9107822e-69ab-454f-a905-b59c4e15c1af\"\n",
    "resource_group = \"AiMethica-ML\"\n",
    "workspace = \"AiMethica-AZML\""
   ]
  },
  {
   "cell_type": "code",
   "execution_count": 14,
   "metadata": {},
   "outputs": [],
   "source": [
    "ml_client = MLClient(\n",
    "    DefaultAzureCredential(), subscription_id, resource_group, workspace\n",
    ")"
   ]
  },
  {
   "cell_type": "code",
   "execution_count": 15,
   "metadata": {},
   "outputs": [
    {
     "name": "stdout",
     "output_type": "stream",
     "text": [
      "westeurope : AiMethica-ML\n"
     ]
    }
   ],
   "source": [
    "ws = ml_client.workspaces.get(workspace)\n",
    "print(ws.location, \":\", ws.resource_group)"
   ]
  },
  {
   "cell_type": "code",
   "execution_count": 16,
   "metadata": {},
   "outputs": [
    {
     "name": "stdout",
     "output_type": "stream",
     "text": [
      "Cluster: aimethica-cluster-managed exists.\n"
     ]
    }
   ],
   "source": [
    "from azure.ai.ml.entities import AmlCompute\n",
    "\n",
    "cpu_compute_target = \"aimethica-cluster-managed\"\n",
    "\n",
    "try:\n",
    "    cpu_cluster = ml_client.compute.get(cpu_compute_target)\n",
    "    print(\n",
    "        f\"Cluster: {cpu_compute_target} exists.\"\n",
    "    )\n",
    "\n",
    "except Exception:\n",
    "    print(\"The cluster doesn't exist.\")"
   ]
  },
  {
   "cell_type": "code",
   "execution_count": 19,
   "metadata": {},
   "outputs": [],
   "source": [
    "from azure.ai.ml import command\n",
    "from azure.ai.ml import Input\n",
    "\n",
    "custom_env_name = \"aimethica-anomaly-env\"\n",
    "env_name = custom_env_name + \"@latest\"\n",
    "\n",
    "registered_model_name = \"anomaly_document_facturi_intrare\"\n",
    "\n",
    "code_directory = os.path.join(AZURE_DIRECTORY,\"src\")\n",
    "input_data_train_path = os.path.join(AZURE_DIRECTORY,\"data/DOCUMENTE_FACTURI_INTRARE_train.csv\")\n",
    "input_data_test_path = os.path.join(AZURE_DIRECTORY,\"data/DOCUMENTE_FACTURI_INTRARE_test.csv\")\n",
    "\n",
    "\n",
    "job = command(\n",
    "    inputs=dict(\n",
    "        input_data_train=Input(\n",
    "            type=\"uri_file\",\n",
    "            path=input_data_train_path,\n",
    "        ),\n",
    "        input_data_test=Input(\n",
    "            type=\"uri_file\",\n",
    "            path=input_data_test_path,\n",
    "        ),\n",
    "        registered_model_name=registered_model_name,\n",
    "        epochs = 50,\n",
    "        batch_size = 16,\n",
    "    ),\n",
    "    compute=cpu_compute_target,\n",
    "    code=code_directory,  # location of source code\n",
    "    command=\"python anomaly_document_facturi_intrare.py --input_data_train ${{inputs.input_data_train}} --input_data_test ${{inputs.input_data_test}} --epochs ${{inputs.epochs}} --batch_size ${{inputs.batch_size}} --registered_model_name ${{inputs.registered_model_name}}\",\n",
    "    environment=env_name,\n",
    "    display_name=\"anomaly_document_facturi_intrare\"\n",
    ")"
   ]
  },
  {
   "cell_type": "code",
   "execution_count": 20,
   "metadata": {},
   "outputs": [
    {
     "name": "stderr",
     "output_type": "stream",
     "text": [
      "Uploading DOCUMENTE_FACTURI_INTRARE_train.csv (< 1 MB): 0.00B [00:00, ?B/s] (< 1 MB): 100%|██████████| 25.3k/25.3k [00:00<00:00, 2.32MB/s]\n",
      "\n",
      "\n",
      "Uploading DOCUMENTE_FACTURI_INTRARE_test.csv (< 1 MB): 0.00B [00:00, ?B/s] (< 1 MB): 100%|██████████| 6.49k/6.49k [00:00<00:00, 721kB/s]\n",
      "\n",
      "\n"
     ]
    },
    {
     "data": {
      "text/html": [
       "<table style=\"width:100%\"><tr><th>Experiment</th><th>Name</th><th>Type</th><th>Status</th><th>Details Page</th></tr><tr><td>code</td><td>affable_camera_gmw3s7709w</td><td>command</td><td>Starting</td><td><a href=\"https://ml.azure.com/runs/affable_camera_gmw3s7709w?wsid=/subscriptions/9107822e-69ab-454f-a905-b59c4e15c1af/resourcegroups/AiMethica-ML/workspaces/AiMethica-AZML&amp;tid=214ea6ae-b24f-4306-b3a4-e32342fa5dfc\" target=\"_blank\" rel=\"noopener\">Link to Azure Machine Learning studio</a></td></tr></table>"
      ],
      "text/plain": [
       "Command({'parameters': {}, 'init': False, 'name': 'affable_camera_gmw3s7709w', 'type': 'command', 'status': 'Starting', 'log_files': None, 'description': None, 'tags': {}, 'properties': {'_azureml.ComputeTargetType': 'amlctrain', '_azureml.ClusterName': 'aimethica-cluster-managed', 'ContentSnapshotId': '837f1d3e-e6bf-4f61-998e-d3740adbf5a2'}, 'print_as_yaml': False, 'id': '/subscriptions/9107822e-69ab-454f-a905-b59c4e15c1af/resourceGroups/AiMethica-ML/providers/Microsoft.MachineLearningServices/workspaces/AiMethica-AZML/jobs/affable_camera_gmw3s7709w', 'Resource__source_path': '', 'base_path': '/mnt/batch/tasks/shared/LS_root/mounts/clusters/aimethica-general/code', 'creation_context': <azure.ai.ml.entities._system_data.SystemData object at 0x7f5c17aeec80>, 'serialize': <msrest.serialization.Serializer object at 0x7f5c17adf310>, 'allowed_keys': {}, 'key_restriction': False, 'logger': <TraceLogger attr_dict (WARNING)>, 'display_name': 'anomaly_document_facturi_intrare', 'experiment_name': 'code', 'compute': 'aimethica-cluster-managed', 'services': {'Tracking': {'endpoint': 'azureml://westeurope.api.azureml.ms/mlflow/v1.0/subscriptions/9107822e-69ab-454f-a905-b59c4e15c1af/resourceGroups/AiMethica-ML/providers/Microsoft.MachineLearningServices/workspaces/AiMethica-AZML?', 'type': 'Tracking'}, 'Studio': {'endpoint': 'https://ml.azure.com/runs/affable_camera_gmw3s7709w?wsid=/subscriptions/9107822e-69ab-454f-a905-b59c4e15c1af/resourcegroups/AiMethica-ML/workspaces/AiMethica-AZML&tid=214ea6ae-b24f-4306-b3a4-e32342fa5dfc', 'type': 'Studio'}}, 'comment': None, 'job_inputs': {'input_data_train': {'type': 'uri_file', 'path': 'azureml://datastores/workspaceblobstore/paths/LocalUpload/44e9a641ecb5a3505ca7a6cac8a8a00b/DOCUMENTE_FACTURI_INTRARE_train.csv', 'mode': 'ro_mount'}, 'input_data_test': {'type': 'uri_file', 'path': 'azureml://datastores/workspaceblobstore/paths/LocalUpload/c9998c58d14015b170ad6fbbe3ff5bbb/DOCUMENTE_FACTURI_INTRARE_test.csv', 'mode': 'ro_mount'}, 'registered_model_name': 'anomaly_document_facturi_intrare', 'epochs': '50', 'batch_size': '16'}, 'job_outputs': {'default': {'type': 'uri_folder', 'path': 'azureml://datastores/workspaceartifactstore/ExperimentRun/dcid.affable_camera_gmw3s7709w', 'mode': 'rw_mount'}}, 'inputs': {'input_data_train': <azure.ai.ml.entities._job.pipeline._io.base.NodeInput object at 0x7f5c17adf370>, 'input_data_test': <azure.ai.ml.entities._job.pipeline._io.base.NodeInput object at 0x7f5c17adf970>, 'registered_model_name': <azure.ai.ml.entities._job.pipeline._io.base.NodeInput object at 0x7f5c17adcc40>, 'epochs': <azure.ai.ml.entities._job.pipeline._io.base.NodeInput object at 0x7f5c17add300>, 'batch_size': <azure.ai.ml.entities._job.pipeline._io.base.NodeInput object at 0x7f5c17adc8e0>}, 'outputs': {'default': <azure.ai.ml.entities._job.pipeline._io.base.NodeOutput object at 0x7f5c17adc250>}, 'component': CommandComponent({'latest_version': None, 'intellectual_property': None, 'auto_increment_version': True, 'source': 'REMOTE.WORKSPACE.JOB', 'is_anonymous': False, 'auto_delete_setting': None, 'name': 'affable_camera_gmw3s7709w', 'description': None, 'tags': {}, 'properties': {}, 'print_as_yaml': False, 'id': None, 'Resource__source_path': None, 'base_path': '/mnt/batch/tasks/shared/LS_root/mounts/clusters/aimethica-general/code', 'creation_context': <azure.ai.ml.entities._system_data.SystemData object at 0x7f5c17aeec80>, 'serialize': <msrest.serialization.Serializer object at 0x7f5c17c4a2f0>, 'command': 'python anomaly_document_facturi_intrare.py --input_data_train ${{inputs.input_data_train}} --input_data_test ${{inputs.input_data_test}} --epochs ${{inputs.epochs}} --batch_size ${{inputs.batch_size}} --registered_model_name ${{inputs.registered_model_name}}', 'code': '/subscriptions/9107822e-69ab-454f-a905-b59c4e15c1af/resourceGroups/AiMethica-ML/providers/Microsoft.MachineLearningServices/workspaces/AiMethica-AZML/codes/b1e15450-07aa-424f-8afc-7071826e55e3/versions/1', 'environment_variables': {}, 'environment': '/subscriptions/9107822e-69ab-454f-a905-b59c4e15c1af/resourceGroups/AiMethica-ML/providers/Microsoft.MachineLearningServices/workspaces/AiMethica-AZML/environments/aimethica-anomaly-env/versions/7', 'distribution': None, 'resources': None, 'queue_settings': None, 'version': None, 'schema': None, 'type': 'command', 'display_name': 'anomaly_document_facturi_intrare', 'is_deterministic': True, 'inputs': {'input_data_train': {'type': 'uri_file', 'path': 'azureml://datastores/workspaceblobstore/paths/LocalUpload/44e9a641ecb5a3505ca7a6cac8a8a00b/DOCUMENTE_FACTURI_INTRARE_train.csv', 'mode': 'ro_mount'}, 'input_data_test': {'type': 'uri_file', 'path': 'azureml://datastores/workspaceblobstore/paths/LocalUpload/c9998c58d14015b170ad6fbbe3ff5bbb/DOCUMENTE_FACTURI_INTRARE_test.csv', 'mode': 'ro_mount'}, 'registered_model_name': {'type': 'string', 'default': 'anomaly_document_facturi_intrare'}, 'epochs': {'type': 'string', 'default': '50'}, 'batch_size': {'type': 'string', 'default': '16'}}, 'outputs': {'default': {'type': 'uri_folder', 'path': 'azureml://datastores/workspaceartifactstore/ExperimentRun/dcid.affable_camera_gmw3s7709w', 'mode': 'rw_mount'}}, 'yaml_str': None, 'other_parameter': {'status': 'Starting', 'parameters': {}}, 'additional_includes': []}), 'referenced_control_flow_node_instance_id': None, 'kwargs': {'services': {'Tracking': {'endpoint': 'azureml://westeurope.api.azureml.ms/mlflow/v1.0/subscriptions/9107822e-69ab-454f-a905-b59c4e15c1af/resourceGroups/AiMethica-ML/providers/Microsoft.MachineLearningServices/workspaces/AiMethica-AZML?', 'type': 'Tracking'}, 'Studio': {'endpoint': 'https://ml.azure.com/runs/affable_camera_gmw3s7709w?wsid=/subscriptions/9107822e-69ab-454f-a905-b59c4e15c1af/resourcegroups/AiMethica-ML/workspaces/AiMethica-AZML&tid=214ea6ae-b24f-4306-b3a4-e32342fa5dfc', 'type': 'Studio'}}, 'status': 'Starting', 'creation_context': <azure.ai.ml.entities._system_data.SystemData object at 0x7f5c17aeec80>}, 'instance_id': '908c2d81-de58-4835-99a8-08216065cd15', 'source': 'BUILDER', 'validate_required_input_not_provided': True, 'limits': None, 'identity': None, 'distribution': None, 'environment_variables': {}, 'environment': 'aimethica-anomaly-env:7', 'resources': {'instance_count': 1, 'shm_size': '2g'}, 'queue_settings': None, 'swept': False})"
      ]
     },
     "execution_count": 20,
     "metadata": {},
     "output_type": "execute_result"
    }
   ],
   "source": [
    "returned_job = ml_client.create_or_update(job)\n",
    "returned_job"
   ]
  }
 ],
 "metadata": {
  "kernelspec": {
   "display_name": "Python 3.10 - SDK v2",
   "language": "python",
   "name": "python310-sdkv2"
  },
  "language_info": {
   "codemirror_mode": {
    "name": "ipython",
    "version": 3
   },
   "file_extension": ".py",
   "mimetype": "text/x-python",
   "name": "python",
   "nbconvert_exporter": "python",
   "pygments_lexer": "ipython3",
   "version": "3.10.14"
  }
 },
 "nbformat": 4,
 "nbformat_minor": 2
}
