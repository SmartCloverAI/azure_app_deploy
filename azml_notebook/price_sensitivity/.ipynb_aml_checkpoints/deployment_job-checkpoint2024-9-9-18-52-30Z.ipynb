{
 "cells": [
  {
   "cell_type": "code",
   "execution_count": 13,
   "metadata": {},
   "outputs": [],
   "source": [
    "import os\n",
    "from azure.ai.ml import MLClient\n",
    "from azure.ai.ml.entities import (\n",
    "    ManagedOnlineEndpoint,\n",
    "    ManagedOnlineDeployment,\n",
    "    Model,\n",
    "    Environment,\n",
    "    CodeConfiguration,\n",
    ")\n",
    "from azure.identity import DefaultAzureCredential, InteractiveBrowserCredential, ManagedIdentityCredential"
   ]
  },
  {
   "cell_type": "code",
   "execution_count": 14,
   "metadata": {},
   "outputs": [],
   "source": [
    "AZURE_DIRECTORY = '/mnt/batch/tasks/shared/LS_root/mounts/clusters/aimethica-general/code/Users/alexandru.popescu/price_sensitivity'"
   ]
  },
  {
   "cell_type": "code",
   "execution_count": 15,
   "metadata": {},
   "outputs": [],
   "source": [
    "subscription_id = \"9107822e-69ab-454f-a905-b59c4e15c1af\"\n",
    "resource_group = \"AiMethica-ML\"\n",
    "workspace = \"AiMethica-AZML\""
   ]
  },
  {
   "cell_type": "code",
   "execution_count": 16,
   "metadata": {},
   "outputs": [],
   "source": [
    "ml_client = MLClient(\n",
    "    DefaultAzureCredential(), subscription_id, resource_group, workspace\n",
    ")"
   ]
  },
  {
   "cell_type": "code",
   "execution_count": 17,
   "metadata": {},
   "outputs": [
    {
     "name": "stdout",
     "output_type": "stream",
     "text": [
      "westeurope : AiMethica-ML\n"
     ]
    }
   ],
   "source": [
    "ws = ml_client.workspaces.get(workspace)\n",
    "print(ws.location, \":\", ws.resource_group)"
   ]
  },
  {
   "cell_type": "code",
   "execution_count": 18,
   "metadata": {},
   "outputs": [
    {
     "name": "stdout",
     "output_type": "stream",
     "text": [
      "Cluster: aimethica-cluster-managed exists.\n"
     ]
    }
   ],
   "source": [
    "from azure.ai.ml.entities import AmlCompute\n",
    "\n",
    "cpu_compute_target = \"aimethica-cluster-managed\"\n",
    "\n",
    "try:\n",
    "    cpu_cluster = ml_client.compute.get(cpu_compute_target)\n",
    "    print(\n",
    "        f\"Cluster: {cpu_compute_target} exists.\"\n",
    "    )\n",
    "\n",
    "except Exception:\n",
    "    print(\"The cluster doesn't exist.\")"
   ]
  },
  {
   "cell_type": "code",
   "execution_count": 19,
   "metadata": {},
   "outputs": [],
   "source": [
    "from azure.ai.ml import command\n",
    "from azure.ai.ml import Input\n",
    "\n",
    "custom_env_name = \"aimethica-anomaly-env\"\n",
    "env_name = custom_env_name + \"@latest\"\n",
    "\n",
    "registered_model_name = \"price_sensitivity\"\n",
    "\n",
    "code_directory = os.path.join(AZURE_DIRECTORY,\"src\")\n",
    "input_data_train_path = os.path.join(AZURE_DIRECTORY,\"data/price_sensitivity_train.csv\")\n",
    "input_data_test_path = os.path.join(AZURE_DIRECTORY,\"data/price_sensitivity_test.csv\")\n",
    "\n",
    "\n",
    "job = command(\n",
    "    inputs=dict(\n",
    "        input_data_train=Input(\n",
    "            type=\"uri_file\",\n",
    "            path=input_data_train_path,\n",
    "        ),\n",
    "        input_data_test=Input(\n",
    "            type=\"uri_file\",\n",
    "            path=input_data_test_path,\n",
    "        ),\n",
    "        registered_model_name=registered_model_name,\n",
    "        epochs = 50,\n",
    "        batch_size = 16,\n",
    "        n_hidden_1 = 64,\n",
    "        n_hidden_2 = 64,\n",
    "        n_hidden_3 = 32,\n",
    "    ),\n",
    "    compute=cpu_compute_target,\n",
    "    code=code_directory,  # location of source code\n",
    "    command=\"python price_sensitivity.py --input_data_train ${{inputs.input_data_train}} --input_data_test ${{inputs.input_data_test}} --epochs ${{inputs.epochs}} --batch_size ${{inputs.batch_size}} --first_layer_neurons ${{inputs.n_hidden_1}} --second_layer_neurons ${{inputs.n_hidden_2}} --third_layer_neurons ${{inputs.n_hidden_3}} --registered_model_name ${{inputs.registered_model_name}}\",\n",
    "    environment=env_name,\n",
    "    display_name=\"price_sensitivity\"\n",
    ")"
   ]
  },
  {
   "cell_type": "code",
   "execution_count": 20,
   "metadata": {},
   "outputs": [
    {
     "name": "stderr",
     "output_type": "stream",
     "text": [
      "\u001b[32mUploading src (0.01 MBs): 100%|██████████| 8274/8274 [00:00<00:00, 161125.40it/s]\n",
      "\u001b[39m\n",
      "\n"
     ]
    },
    {
     "data": {
      "text/html": [
       "<table style=\"width:100%\"><tr><th>Experiment</th><th>Name</th><th>Type</th><th>Status</th><th>Details Page</th></tr><tr><td>code</td><td>upbeat_knee_g1m1brb6kc</td><td>command</td><td>Starting</td><td><a href=\"https://ml.azure.com/runs/upbeat_knee_g1m1brb6kc?wsid=/subscriptions/9107822e-69ab-454f-a905-b59c4e15c1af/resourcegroups/AiMethica-ML/workspaces/AiMethica-AZML&amp;tid=214ea6ae-b24f-4306-b3a4-e32342fa5dfc\" target=\"_blank\" rel=\"noopener\">Link to Azure Machine Learning studio</a></td></tr></table>"
      ],
      "text/plain": [
       "Command({'parameters': {}, 'init': False, 'name': 'upbeat_knee_g1m1brb6kc', 'type': 'command', 'status': 'Starting', 'log_files': None, 'description': None, 'tags': {}, 'properties': {'_azureml.ComputeTargetType': 'amlctrain', '_azureml.ClusterName': 'aimethica-cluster-managed', 'ContentSnapshotId': '4e5cc304-afc1-4345-8087-36cc02ce34e6'}, 'print_as_yaml': False, 'id': '/subscriptions/9107822e-69ab-454f-a905-b59c4e15c1af/resourceGroups/AiMethica-ML/providers/Microsoft.MachineLearningServices/workspaces/AiMethica-AZML/jobs/upbeat_knee_g1m1brb6kc', 'Resource__source_path': '', 'base_path': '/mnt/batch/tasks/shared/LS_root/mounts/clusters/aimethica-general/code', 'creation_context': <azure.ai.ml.entities._system_data.SystemData object at 0x7ffa7c112ec0>, 'serialize': <msrest.serialization.Serializer object at 0x7ffa7c112fb0>, 'allowed_keys': {}, 'key_restriction': False, 'logger': <TraceLogger attr_dict (WARNING)>, 'display_name': 'price_sensitivity', 'experiment_name': 'code', 'compute': 'aimethica-cluster-managed', 'services': {'Tracking': {'endpoint': 'azureml://westeurope.api.azureml.ms/mlflow/v1.0/subscriptions/9107822e-69ab-454f-a905-b59c4e15c1af/resourceGroups/AiMethica-ML/providers/Microsoft.MachineLearningServices/workspaces/AiMethica-AZML?', 'type': 'Tracking'}, 'Studio': {'endpoint': 'https://ml.azure.com/runs/upbeat_knee_g1m1brb6kc?wsid=/subscriptions/9107822e-69ab-454f-a905-b59c4e15c1af/resourcegroups/AiMethica-ML/workspaces/AiMethica-AZML&tid=214ea6ae-b24f-4306-b3a4-e32342fa5dfc', 'type': 'Studio'}}, 'comment': None, 'job_inputs': {'input_data_train': {'type': 'uri_file', 'path': 'azureml://datastores/workspaceblobstore/paths/LocalUpload/c3796f2d22e43ea6908445ae9df23762/price_sensitivity_train.csv', 'mode': 'ro_mount'}, 'input_data_test': {'type': 'uri_file', 'path': 'azureml://datastores/workspaceblobstore/paths/LocalUpload/cb290eedb93866152194daebe32842a6/price_sensitivity_test.csv', 'mode': 'ro_mount'}, 'registered_model_name': 'price_sensitivity', 'epochs': '50', 'batch_size': '16', 'n_hidden_1': '64', 'n_hidden_2': '64', 'n_hidden_3': '32'}, 'job_outputs': {'default': {'type': 'uri_folder', 'path': 'azureml://datastores/workspaceartifactstore/ExperimentRun/dcid.upbeat_knee_g1m1brb6kc', 'mode': 'rw_mount'}}, 'inputs': {'input_data_train': <azure.ai.ml.entities._job.pipeline._io.base.NodeInput object at 0x7ffa7c112b90>, 'input_data_test': <azure.ai.ml.entities._job.pipeline._io.base.NodeInput object at 0x7ffa7c1107c0>, 'registered_model_name': <azure.ai.ml.entities._job.pipeline._io.base.NodeInput object at 0x7ffa7c112d70>, 'epochs': <azure.ai.ml.entities._job.pipeline._io.base.NodeInput object at 0x7ffa7c112050>, 'batch_size': <azure.ai.ml.entities._job.pipeline._io.base.NodeInput object at 0x7ffa7c111c30>, 'n_hidden_1': <azure.ai.ml.entities._job.pipeline._io.base.NodeInput object at 0x7ffa7c111ff0>, 'n_hidden_2': <azure.ai.ml.entities._job.pipeline._io.base.NodeInput object at 0x7ffa7c1119c0>, 'n_hidden_3': <azure.ai.ml.entities._job.pipeline._io.base.NodeInput object at 0x7ffa7c111e70>}, 'outputs': {'default': <azure.ai.ml.entities._job.pipeline._io.base.NodeOutput object at 0x7ffa7c111e40>}, 'component': CommandComponent({'latest_version': None, 'intellectual_property': None, 'auto_increment_version': True, 'source': 'REMOTE.WORKSPACE.JOB', 'is_anonymous': False, 'auto_delete_setting': None, 'name': 'upbeat_knee_g1m1brb6kc', 'description': None, 'tags': {}, 'properties': {}, 'print_as_yaml': False, 'id': None, 'Resource__source_path': None, 'base_path': '/mnt/batch/tasks/shared/LS_root/mounts/clusters/aimethica-general/code', 'creation_context': <azure.ai.ml.entities._system_data.SystemData object at 0x7ffa7c112ec0>, 'serialize': <msrest.serialization.Serializer object at 0x7ffa7c112bc0>, 'command': 'python price_sensitivity.py --input_data_train ${{inputs.input_data_train}} --input_data_test ${{inputs.input_data_test}} --epochs ${{inputs.epochs}} --batch_size ${{inputs.batch_size}} --first_layer_neurons ${{inputs.n_hidden_1}} --second_layer_neurons ${{inputs.n_hidden_2}} --third_layer_neurons ${{inputs.n_hidden_3}} --registered_model_name ${{inputs.registered_model_name}}', 'code': '/subscriptions/9107822e-69ab-454f-a905-b59c4e15c1af/resourceGroups/AiMethica-ML/providers/Microsoft.MachineLearningServices/workspaces/AiMethica-AZML/codes/49da1071-b144-47a2-aa94-5765708e6e23/versions/1', 'environment_variables': {}, 'environment': '/subscriptions/9107822e-69ab-454f-a905-b59c4e15c1af/resourceGroups/AiMethica-ML/providers/Microsoft.MachineLearningServices/workspaces/AiMethica-AZML/environments/aimethica-anomaly-env/versions/7', 'distribution': None, 'resources': None, 'queue_settings': None, 'version': None, 'schema': None, 'type': 'command', 'display_name': 'price_sensitivity', 'is_deterministic': True, 'inputs': {'input_data_train': {'type': 'uri_file', 'path': 'azureml://datastores/workspaceblobstore/paths/LocalUpload/c3796f2d22e43ea6908445ae9df23762/price_sensitivity_train.csv', 'mode': 'ro_mount'}, 'input_data_test': {'type': 'uri_file', 'path': 'azureml://datastores/workspaceblobstore/paths/LocalUpload/cb290eedb93866152194daebe32842a6/price_sensitivity_test.csv', 'mode': 'ro_mount'}, 'registered_model_name': {'type': 'string', 'default': 'price_sensitivity'}, 'epochs': {'type': 'string', 'default': '50'}, 'batch_size': {'type': 'string', 'default': '16'}, 'n_hidden_1': {'type': 'string', 'default': '64'}, 'n_hidden_2': {'type': 'string', 'default': '64'}, 'n_hidden_3': {'type': 'string', 'default': '32'}}, 'outputs': {'default': {'type': 'uri_folder', 'path': 'azureml://datastores/workspaceartifactstore/ExperimentRun/dcid.upbeat_knee_g1m1brb6kc', 'mode': 'rw_mount'}}, 'yaml_str': None, 'other_parameter': {'status': 'Starting', 'parameters': {}}, 'additional_includes': []}), 'referenced_control_flow_node_instance_id': None, 'kwargs': {'services': {'Tracking': {'endpoint': 'azureml://westeurope.api.azureml.ms/mlflow/v1.0/subscriptions/9107822e-69ab-454f-a905-b59c4e15c1af/resourceGroups/AiMethica-ML/providers/Microsoft.MachineLearningServices/workspaces/AiMethica-AZML?', 'type': 'Tracking'}, 'Studio': {'endpoint': 'https://ml.azure.com/runs/upbeat_knee_g1m1brb6kc?wsid=/subscriptions/9107822e-69ab-454f-a905-b59c4e15c1af/resourcegroups/AiMethica-ML/workspaces/AiMethica-AZML&tid=214ea6ae-b24f-4306-b3a4-e32342fa5dfc', 'type': 'Studio'}}, 'status': 'Starting', 'creation_context': <azure.ai.ml.entities._system_data.SystemData object at 0x7ffa7c112ec0>}, 'instance_id': '2d375aea-5f9f-4bdb-9b0c-f2c9f9549684', 'source': 'BUILDER', 'validate_required_input_not_provided': True, 'limits': None, 'identity': None, 'distribution': None, 'environment_variables': {}, 'environment': 'aimethica-anomaly-env:7', 'resources': {'instance_count': 1, 'shm_size': '2g'}, 'queue_settings': None, 'swept': False})"
      ]
     },
     "execution_count": 20,
     "metadata": {},
     "output_type": "execute_result"
    }
   ],
   "source": [
    "returned_job = ml_client.create_or_update(job)\n",
    "returned_job"
   ]
  }
 ],
 "metadata": {
  "kernelspec": {
   "display_name": "Python 3.10 - SDK v2",
   "language": "python",
   "name": "python310-sdkv2"
  },
  "language_info": {
   "codemirror_mode": {
    "name": "ipython",
    "version": 3
   },
   "file_extension": ".py",
   "mimetype": "text/x-python",
   "name": "python",
   "nbconvert_exporter": "python",
   "pygments_lexer": "ipython3",
   "version": "3.10.14"
  }
 },
 "nbformat": 4,
 "nbformat_minor": 2
}
