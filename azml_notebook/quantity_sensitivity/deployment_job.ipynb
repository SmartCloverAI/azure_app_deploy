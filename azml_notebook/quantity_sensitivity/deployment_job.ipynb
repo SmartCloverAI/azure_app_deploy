{
 "cells": [
  {
   "cell_type": "code",
   "execution_count": 1,
   "metadata": {},
   "outputs": [],
   "source": [
    "import os\n",
    "from azure.ai.ml import MLClient\n",
    "from azure.ai.ml.entities import (\n",
    "    ManagedOnlineEndpoint,\n",
    "    ManagedOnlineDeployment,\n",
    "    Model,\n",
    "    Environment,\n",
    "    CodeConfiguration,\n",
    ")\n",
    "from azure.identity import DefaultAzureCredential, InteractiveBrowserCredential, ManagedIdentityCredential"
   ]
  },
  {
   "cell_type": "code",
   "execution_count": 2,
   "metadata": {},
   "outputs": [],
   "source": [
    "AZURE_DIRECTORY = '/mnt/batch/tasks/shared/LS_root/mounts/clusters/aimethica-general/code/Users/alexandru.popescu/quantity_sensitivity'"
   ]
  },
  {
   "cell_type": "code",
   "execution_count": 3,
   "metadata": {},
   "outputs": [],
   "source": [
    "subscription_id = \"9107822e-69ab-454f-a905-b59c4e15c1af\"\n",
    "resource_group = \"AiMethica-ML\"\n",
    "workspace = \"AiMethica-AZML\""
   ]
  },
  {
   "cell_type": "code",
   "execution_count": 4,
   "metadata": {},
   "outputs": [],
   "source": [
    "ml_client = MLClient(\n",
    "    DefaultAzureCredential(), subscription_id, resource_group, workspace\n",
    ")"
   ]
  },
  {
   "cell_type": "code",
   "execution_count": 5,
   "metadata": {},
   "outputs": [
    {
     "name": "stdout",
     "output_type": "stream",
     "text": [
      "westeurope : AiMethica-ML\n"
     ]
    }
   ],
   "source": [
    "ws = ml_client.workspaces.get(workspace)\n",
    "print(ws.location, \":\", ws.resource_group)"
   ]
  },
  {
   "cell_type": "code",
   "execution_count": 6,
   "metadata": {},
   "outputs": [
    {
     "name": "stdout",
     "output_type": "stream",
     "text": [
      "Cluster: aimethica-cluster-managed exists.\n"
     ]
    }
   ],
   "source": [
    "from azure.ai.ml.entities import AmlCompute\n",
    "\n",
    "cpu_compute_target = \"aimethica-cluster-managed\"\n",
    "\n",
    "try:\n",
    "    cpu_cluster = ml_client.compute.get(cpu_compute_target)\n",
    "    print(\n",
    "        f\"Cluster: {cpu_compute_target} exists.\"\n",
    "    )\n",
    "\n",
    "except Exception:\n",
    "    print(\"The cluster doesn't exist.\")"
   ]
  },
  {
   "cell_type": "code",
   "execution_count": 7,
   "metadata": {},
   "outputs": [],
   "source": [
    "from azure.ai.ml import command\n",
    "from azure.ai.ml import Input\n",
    "\n",
    "custom_env_name = \"aimethica-anomaly-env\"\n",
    "env_name = custom_env_name + \"@latest\"\n",
    "\n",
    "registered_model_name = \"quantity_sensitivity\"\n",
    "\n",
    "code_directory = os.path.join(AZURE_DIRECTORY,\"src\")\n",
    "input_data_train_path = os.path.join(AZURE_DIRECTORY,\"data/quantity_sensitivity_20_train.csv\")\n",
    "input_data_test_path = os.path.join(AZURE_DIRECTORY,\"data/quantity_sensitivity_20_test.csv\")\n",
    "\n",
    "\n",
    "job = command(\n",
    "    inputs=dict(\n",
    "        input_data_train=Input(\n",
    "            type=\"uri_file\",\n",
    "            path=input_data_train_path,\n",
    "        ),\n",
    "        input_data_test=Input(\n",
    "            type=\"uri_file\",\n",
    "            path=input_data_test_path,\n",
    "        ),\n",
    "        registered_model_name=registered_model_name,\n",
    "        epochs = 50,\n",
    "        batch_size = 16,\n",
    "        n_hidden_1 = 64,\n",
    "        n_hidden_2 = 64,\n",
    "        n_hidden_3 = 32,\n",
    "    ),\n",
    "    compute=cpu_compute_target,\n",
    "    code=code_directory,  # location of source code\n",
    "    command=\"python quantity_sensitivity.py --input_data_train ${{inputs.input_data_train}} --input_data_test ${{inputs.input_data_test}} --epochs ${{inputs.epochs}} --batch_size ${{inputs.batch_size}} --first_layer_neurons ${{inputs.n_hidden_1}} --second_layer_neurons ${{inputs.n_hidden_2}} --third_layer_neurons ${{inputs.n_hidden_3}} --registered_model_name ${{inputs.registered_model_name}}\",\n",
    "    environment=env_name,\n",
    "    display_name=\"quantity_sensitivity\"\n",
    ")"
   ]
  },
  {
   "cell_type": "code",
   "execution_count": 8,
   "metadata": {},
   "outputs": [
    {
     "name": "stderr",
     "output_type": "stream",
     "text": [
      "Class AutoDeleteSettingSchema: This is an experimental class, and may change at any time. Please see https://aka.ms/azuremlexperimental for more information.\n",
      "Class AutoDeleteConditionSchema: This is an experimental class, and may change at any time. Please see https://aka.ms/azuremlexperimental for more information.\n",
      "Class BaseAutoDeleteSettingSchema: This is an experimental class, and may change at any time. Please see https://aka.ms/azuremlexperimental for more information.\n",
      "Class IntellectualPropertySchema: This is an experimental class, and may change at any time. Please see https://aka.ms/azuremlexperimental for more information.\n",
      "Class ProtectionLevelSchema: This is an experimental class, and may change at any time. Please see https://aka.ms/azuremlexperimental for more information.\n",
      "Class BaseIntellectualPropertySchema: This is an experimental class, and may change at any time. Please see https://aka.ms/azuremlexperimental for more information.\n",
      "\u001b[32mUploading src (0.01 MBs): 100%|██████████| 8685/8685 [00:00<00:00, 265411.99it/s]\n",
      "\u001b[39m\n",
      "\n",
      "\u001b[32mUploading quantity_sensitivity_20_train.csv\u001b[32m (< 1 MB): 100%|██████████| 46.9k/46.9k [00:00<00:00, 3.43MB/s]\n",
      "\u001b[39m\n",
      "\n",
      "\u001b[32mUploading quantity_sensitivity_20_test.csv\u001b[32m (< 1 MB): 100%|██████████| 2.87k/2.87k [00:00<00:00, 229kB/s]\n",
      "\u001b[39m\n",
      "\n"
     ]
    },
    {
     "data": {
      "text/html": [
       "<table style=\"width:100%\"><tr><th>Experiment</th><th>Name</th><th>Type</th><th>Status</th><th>Details Page</th></tr><tr><td>code</td><td>jolly_cat_f5vh1ymrw3</td><td>command</td><td>Starting</td><td><a href=\"https://ml.azure.com/runs/jolly_cat_f5vh1ymrw3?wsid=/subscriptions/9107822e-69ab-454f-a905-b59c4e15c1af/resourcegroups/AiMethica-ML/workspaces/AiMethica-AZML&amp;tid=214ea6ae-b24f-4306-b3a4-e32342fa5dfc\" target=\"_blank\" rel=\"noopener\">Link to Azure Machine Learning studio</a></td></tr></table>"
      ],
      "text/plain": [
       "Command({'parameters': {}, 'init': False, 'name': 'jolly_cat_f5vh1ymrw3', 'type': 'command', 'status': 'Starting', 'log_files': None, 'description': None, 'tags': {}, 'properties': {'_azureml.ComputeTargetType': 'amlctrain', '_azureml.ClusterName': 'aimethica-cluster-managed', 'ContentSnapshotId': 'c3b76464-b047-4ce8-a015-8e4d63af5060'}, 'print_as_yaml': False, 'id': '/subscriptions/9107822e-69ab-454f-a905-b59c4e15c1af/resourceGroups/AiMethica-ML/providers/Microsoft.MachineLearningServices/workspaces/AiMethica-AZML/jobs/jolly_cat_f5vh1ymrw3', 'Resource__source_path': '', 'base_path': '/mnt/batch/tasks/shared/LS_root/mounts/clusters/aimethica-general/code', 'creation_context': <azure.ai.ml.entities._system_data.SystemData object at 0x7ff2ad41d2a0>, 'serialize': <msrest.serialization.Serializer object at 0x7ff2ad24f3a0>, 'allowed_keys': {}, 'key_restriction': False, 'logger': <TraceLogger attr_dict (WARNING)>, 'display_name': 'quantity_sensitivity', 'experiment_name': 'code', 'compute': 'aimethica-cluster-managed', 'services': {'Tracking': {'endpoint': 'azureml://westeurope.api.azureml.ms/mlflow/v1.0/subscriptions/9107822e-69ab-454f-a905-b59c4e15c1af/resourceGroups/AiMethica-ML/providers/Microsoft.MachineLearningServices/workspaces/AiMethica-AZML?', 'type': 'Tracking'}, 'Studio': {'endpoint': 'https://ml.azure.com/runs/jolly_cat_f5vh1ymrw3?wsid=/subscriptions/9107822e-69ab-454f-a905-b59c4e15c1af/resourcegroups/AiMethica-ML/workspaces/AiMethica-AZML&tid=214ea6ae-b24f-4306-b3a4-e32342fa5dfc', 'type': 'Studio'}}, 'comment': None, 'job_inputs': {'input_data_train': {'type': 'uri_file', 'path': 'azureml://datastores/workspaceblobstore/paths/LocalUpload/60af9b9ca5b3ac1d26fec791a82f9f6e/quantity_sensitivity_20_train.csv', 'mode': 'ro_mount'}, 'input_data_test': {'type': 'uri_file', 'path': 'azureml://datastores/workspaceblobstore/paths/LocalUpload/cb7459761d533b40f060b97bff3017f0/quantity_sensitivity_20_test.csv', 'mode': 'ro_mount'}, 'registered_model_name': 'quantity_sensitivity', 'epochs': '50', 'batch_size': '16', 'n_hidden_1': '64', 'n_hidden_2': '64', 'n_hidden_3': '32'}, 'job_outputs': {'default': {'type': 'uri_folder', 'path': 'azureml://datastores/workspaceartifactstore/ExperimentRun/dcid.jolly_cat_f5vh1ymrw3', 'mode': 'rw_mount'}}, 'inputs': {'input_data_train': <azure.ai.ml.entities._job.pipeline._io.base.NodeInput object at 0x7ff2ad24c370>, 'input_data_test': <azure.ai.ml.entities._job.pipeline._io.base.NodeInput object at 0x7ff2ad24da50>, 'registered_model_name': <azure.ai.ml.entities._job.pipeline._io.base.NodeInput object at 0x7ff2ad24c280>, 'epochs': <azure.ai.ml.entities._job.pipeline._io.base.NodeInput object at 0x7ff2ad24d930>, 'batch_size': <azure.ai.ml.entities._job.pipeline._io.base.NodeInput object at 0x7ff2ad24efe0>, 'n_hidden_1': <azure.ai.ml.entities._job.pipeline._io.base.NodeInput object at 0x7ff2ad24d150>, 'n_hidden_2': <azure.ai.ml.entities._job.pipeline._io.base.NodeInput object at 0x7ff2ad24d7e0>, 'n_hidden_3': <azure.ai.ml.entities._job.pipeline._io.base.NodeInput object at 0x7ff2ad24cbb0>}, 'outputs': {'default': <azure.ai.ml.entities._job.pipeline._io.base.NodeOutput object at 0x7ff2ad24c9d0>}, 'component': CommandComponent({'latest_version': None, 'intellectual_property': None, 'auto_increment_version': True, 'source': 'REMOTE.WORKSPACE.JOB', 'is_anonymous': False, 'auto_delete_setting': None, 'name': 'jolly_cat_f5vh1ymrw3', 'description': None, 'tags': {}, 'properties': {}, 'print_as_yaml': False, 'id': None, 'Resource__source_path': None, 'base_path': '/mnt/batch/tasks/shared/LS_root/mounts/clusters/aimethica-general/code', 'creation_context': <azure.ai.ml.entities._system_data.SystemData object at 0x7ff2ad41d2a0>, 'serialize': <msrest.serialization.Serializer object at 0x7ff2ad24c070>, 'command': 'python quantity_sensitivity.py --input_data_train ${{inputs.input_data_train}} --input_data_test ${{inputs.input_data_test}} --epochs ${{inputs.epochs}} --batch_size ${{inputs.batch_size}} --first_layer_neurons ${{inputs.n_hidden_1}} --second_layer_neurons ${{inputs.n_hidden_2}} --third_layer_neurons ${{inputs.n_hidden_3}} --registered_model_name ${{inputs.registered_model_name}}', 'code': '/subscriptions/9107822e-69ab-454f-a905-b59c4e15c1af/resourceGroups/AiMethica-ML/providers/Microsoft.MachineLearningServices/workspaces/AiMethica-AZML/codes/7c401b39-665a-4e25-99f6-c471477c3916/versions/1', 'environment_variables': {}, 'environment': '/subscriptions/9107822e-69ab-454f-a905-b59c4e15c1af/resourceGroups/AiMethica-ML/providers/Microsoft.MachineLearningServices/workspaces/AiMethica-AZML/environments/aimethica-anomaly-env/versions/7', 'distribution': None, 'resources': None, 'queue_settings': None, 'version': None, 'schema': None, 'type': 'command', 'display_name': 'quantity_sensitivity', 'is_deterministic': True, 'inputs': {'input_data_train': {'type': 'uri_file', 'path': 'azureml://datastores/workspaceblobstore/paths/LocalUpload/60af9b9ca5b3ac1d26fec791a82f9f6e/quantity_sensitivity_20_train.csv', 'mode': 'ro_mount'}, 'input_data_test': {'type': 'uri_file', 'path': 'azureml://datastores/workspaceblobstore/paths/LocalUpload/cb7459761d533b40f060b97bff3017f0/quantity_sensitivity_20_test.csv', 'mode': 'ro_mount'}, 'registered_model_name': {'type': 'string', 'default': 'quantity_sensitivity'}, 'epochs': {'type': 'string', 'default': '50'}, 'batch_size': {'type': 'string', 'default': '16'}, 'n_hidden_1': {'type': 'string', 'default': '64'}, 'n_hidden_2': {'type': 'string', 'default': '64'}, 'n_hidden_3': {'type': 'string', 'default': '32'}}, 'outputs': {'default': {'type': 'uri_folder', 'path': 'azureml://datastores/workspaceartifactstore/ExperimentRun/dcid.jolly_cat_f5vh1ymrw3', 'mode': 'rw_mount'}}, 'yaml_str': None, 'other_parameter': {'status': 'Starting', 'parameters': {}}, 'additional_includes': []}), 'referenced_control_flow_node_instance_id': None, 'kwargs': {'services': {'Tracking': {'endpoint': 'azureml://westeurope.api.azureml.ms/mlflow/v1.0/subscriptions/9107822e-69ab-454f-a905-b59c4e15c1af/resourceGroups/AiMethica-ML/providers/Microsoft.MachineLearningServices/workspaces/AiMethica-AZML?', 'type': 'Tracking'}, 'Studio': {'endpoint': 'https://ml.azure.com/runs/jolly_cat_f5vh1ymrw3?wsid=/subscriptions/9107822e-69ab-454f-a905-b59c4e15c1af/resourcegroups/AiMethica-ML/workspaces/AiMethica-AZML&tid=214ea6ae-b24f-4306-b3a4-e32342fa5dfc', 'type': 'Studio'}}, 'status': 'Starting', 'creation_context': <azure.ai.ml.entities._system_data.SystemData object at 0x7ff2ad41d2a0>}, 'instance_id': '571ae40f-c008-43f8-bb83-c13b9579ecf7', 'source': 'BUILDER', 'validate_required_input_not_provided': True, 'limits': None, 'identity': None, 'distribution': None, 'environment_variables': {}, 'environment': 'aimethica-anomaly-env:7', 'resources': {'instance_count': 1, 'shm_size': '2g'}, 'queue_settings': None, 'swept': False})"
      ]
     },
     "execution_count": 8,
     "metadata": {},
     "output_type": "execute_result"
    }
   ],
   "source": [
    "returned_job = ml_client.create_or_update(job)\n",
    "returned_job"
   ]
  }
 ],
 "metadata": {
  "kernelspec": {
   "display_name": "Python 3.10 - SDK v2",
   "language": "python",
   "name": "python310-sdkv2"
  },
  "language_info": {
   "codemirror_mode": {
    "name": "ipython",
    "version": 3
   },
   "file_extension": ".py",
   "mimetype": "text/x-python",
   "name": "python",
   "nbconvert_exporter": "python",
   "pygments_lexer": "ipython3",
   "version": "3.10.14"
  }
 },
 "nbformat": 4,
 "nbformat_minor": 2
}
